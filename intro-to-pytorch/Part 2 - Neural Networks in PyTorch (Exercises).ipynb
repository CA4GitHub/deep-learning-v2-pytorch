{
 "cells": [
  {
   "cell_type": "markdown",
   "metadata": {},
   "source": [
    "# Neural networks with PyTorch\n",
    "\n",
    "Deep learning networks tend to be massive with dozens or hundreds of layers, that's where the term \"deep\" comes from. You can build one of these deep networks using only weight matrices as we did in the previous notebook, but in general it's very cumbersome and difficult to implement. PyTorch has a nice module `nn` that provides a nice way to efficiently build large neural networks."
   ]
  },
  {
   "cell_type": "code",
   "execution_count": 59,
   "metadata": {},
   "outputs": [],
   "source": [
    "# Import necessary packages\n",
    "\n",
    "%matplotlib inline\n",
    "%config InlineBackend.figure_format = 'retina'\n",
    "\n",
    "import numpy as np\n",
    "import torch\n",
    "\n",
    "import helper\n",
    "\n",
    "import matplotlib.pyplot as plt"
   ]
  },
  {
   "cell_type": "markdown",
   "metadata": {},
   "source": [
    "\n",
    "Now we're going to build a larger network that can solve a (formerly) difficult problem, identifying text in an image. Here we'll use the MNIST dataset which consists of greyscale handwritten digits. Each image is 28x28 pixels, you can see a sample below\n",
    "\n",
    "<img src='assets/mnist.png'>\n",
    "\n",
    "Our goal is to build a neural network that can take one of these images and predict the digit in the image.\n",
    "\n",
    "First up, we need to get our dataset. This is provided through the `torchvision` package. The code below will download the MNIST dataset, then create training and test datasets for us. Don't worry too much about the details here, you'll learn more about this later."
   ]
  },
  {
   "cell_type": "code",
   "execution_count": 60,
   "metadata": {},
   "outputs": [],
   "source": [
    "### Run this cell\n",
    "\n",
    "from torchvision import datasets, transforms\n",
    "\n",
    "# Define a transform to normalize the data\n",
    "transform = transforms.Compose([transforms.ToTensor(),\n",
    "                              transforms.Normalize((0.5,), (0.5,)),\n",
    "                              ])\n",
    "\n",
    "# Download and load the training data\n",
    "trainset = datasets.MNIST('~/.pytorch/MNIST_data/', download=True, train=True, transform=transform)\n",
    "trainloader = torch.utils.data.DataLoader(trainset, batch_size=64, shuffle=True)"
   ]
  },
  {
   "cell_type": "markdown",
   "metadata": {},
   "source": [
    "We have the training data loaded into `trainloader` and we make that an iterator with `iter(trainloader)`. Later, we'll use this to loop through the dataset for training, like\n",
    "\n",
    "```python\n",
    "for image, label in trainloader:\n",
    "    ## do things with images and labels\n",
    "```\n",
    "\n",
    "You'll notice I created the `trainloader` with a batch size of 64, and `shuffle=True`. The batch size is the number of images we get in one iteration from the data loader and pass through our network, often called a *batch*. And `shuffle=True` tells it to shuffle the dataset every time we start going through the data loader again. But here I'm just grabbing the first batch so we can check out the data. We can see below that `images` is just a tensor with size `(64, 1, 28, 28)`. So, 64 images per batch, 1 color channel, and 28x28 images."
   ]
  },
  {
   "cell_type": "code",
   "execution_count": 61,
   "metadata": {},
   "outputs": [
    {
     "name": "stdout",
     "output_type": "stream",
     "text": [
      "torch.Size([64, 1, 28, 28])\n",
      "torch.Size([64])\n"
     ]
    }
   ],
   "source": [
    "dataiter = iter(trainloader)\n",
    "images, labels = dataiter.next()\n",
    "print(images.shape)\n",
    "print(labels.shape)"
   ]
  },
  {
   "cell_type": "markdown",
   "metadata": {},
   "source": [
    "This is what one of the images looks like. "
   ]
  },
  {
   "cell_type": "code",
   "execution_count": 62,
   "metadata": {},
   "outputs": [
    {
     "data": {
      "image/png": "[encoded data removed]",
      "text/plain": [
       "<Figure size 432x288 with 1 Axes>"
      ]
     },
     "metadata": {
      "image/png": {
       "height": 248,
       "width": 251
      },
      "needs_background": "light"
     },
     "output_type": "display_data"
    }
   ],
   "source": [
    "plt.imshow(images[1].numpy().squeeze(), cmap='Greys_r');"
   ]
  },
  {
   "cell_type": "markdown",
   "metadata": {},
   "source": [
    "First, let's try to build a simple network for this dataset using weight matrices and matrix multiplications. Then, we'll see how to do it using PyTorch's `nn` module which provides a much more convenient and powerful method for defining network architectures.\n",
    "\n",
    "The networks you've seen so far are called *fully-connected* or *dense* networks. Each unit in one layer is connected to each unit in the next layer. In fully-connected networks, the input to each layer must be a one-dimensional vector (which can be stacked into a 2D tensor as a batch of multiple examples). However, our images are 28x28 2D tensors, so we need to convert them into 1D vectors. Thinking about sizes, we need to convert the batch of images with shape `(64, 1, 28, 28)` to a have a shape of `(64, 784)`, 784 is 28 times 28. This is typically called *flattening*, we flattened the 2D images into 1D vectors.\n",
    "\n",
    "Previously you built a network with one output unit. Here we need 10 output units, one for each digit. We want our network to predict the digit shown in an image, so what we'll do is calculate probabilities that the image is of any one digit or class. This ends up being a discrete probability distribution over the classes (digits) that tells us the most likely class for the image. That means we need 10 output units for the 10 classes (digits). We'll see how to convert the network output into a probability distribution next.\n",
    "\n",
    "> **Exercise:** Flatten the batch of images `images`. Then build a multi-layer network with 784 input units, 256 hidden units, and 10 output units using random tensors for the weights and biases. For now, use a sigmoid activation for the hidden layer. Leave the output layer without an activation, we'll add one that gives us a probability distribution next."
   ]
  },
  {
   "cell_type": "code",
   "execution_count": 63,
   "metadata": {},
   "outputs": [
    {
     "name": "stdout",
     "output_type": "stream",
     "text": [
      "torch.Size([784, 256])\n",
      "torch.Size([64, 256])\n",
      "torch.Size([64, 10])\n",
      "tensor([[  3.2733,   4.1414,  -4.6933,  -1.1855,  18.1173,  -6.3286,   3.3556,\n",
      "          -0.6981, -14.8949,   1.5592],\n",
      "        [  2.9523,  -7.4938, -19.2842,   1.2244,   7.9464,  -5.9982,  -6.0621,\n",
      "          -3.8631,  -7.6586,   1.7797],\n",
      "        [  1.4056,  -8.7780,  -6.6833,  12.9672,   9.4041,  -9.1053,  -8.5127,\n",
      "           1.4796,  -9.7825,  -6.7955],\n",
      "        [  8.4545,  -5.7130,   2.1952,  -0.3796,   0.4296,   4.0927,   4.8888,\n",
      "          -1.7502,  -7.8087,  -7.8866],\n",
      "        [  0.4695,  -0.2438,  -3.3756,  -3.5953,   8.5817, -11.7047,  -4.5779,\n",
      "          -1.6640, -14.4400, -12.5176],\n",
      "        [  9.3083,  -7.3103,   3.4440,  -7.8092,   6.4230,  -2.1390, -16.5968,\n",
      "           1.4055, -10.5178,  -6.9434],\n",
      "        [  7.0653,  -3.4220,  -7.0421,  10.1577,   4.4208,   5.1076,   3.5099,\n",
      "           3.5156,  -4.2539,  -7.9101],\n",
      "        [ -2.7749,  -8.8182,   2.8256,   1.0870,  10.7302, -10.0631,  -8.3660,\n",
      "           1.7624, -13.4855, -14.7003],\n",
      "        [  5.4520,  -5.2345,   4.5086,   2.1626,  16.3485,  -3.1216,  -8.0264,\n",
      "          12.6408, -12.6595,  -5.0050],\n",
      "        [  1.9313,   0.4517,  -3.7101,  12.9042,   5.8184,   2.5650,   6.8476,\n",
      "          -1.2465,  -8.6061,  -7.1064],\n",
      "        [ -1.2801,  -9.2730,   3.8578,  -2.5822,   4.5280,  -8.0329,  -8.8692,\n",
      "          -7.5339, -16.6292,  -6.1381],\n",
      "        [  4.3816,  -5.8479,  -8.0172,   5.3545,   5.5612,  -5.7270,  -9.0554,\n",
      "          -1.8010,   1.0771,   1.3212],\n",
      "        [ -1.4324, -17.8772,  -4.7397,   6.0156,   6.7508,  -7.6802,  -3.2931,\n",
      "          -0.6159,  -5.6002,  -9.8198],\n",
      "        [  0.3883,  -5.4609, -12.0219,  -2.0389,  14.9442,  -1.7921,   5.7166,\n",
      "           2.8880,  -8.8135,  -4.7571],\n",
      "        [ -2.3032,  -3.8203,  -9.9396,   5.1638,   6.8322,  -1.3453,   5.2924,\n",
      "          -5.4090,  -9.3094, -10.3612],\n",
      "        [  6.6880,  -9.4042,   1.0180,  -2.7649,   0.5316,  -0.1418,  -8.2047,\n",
      "           2.4480,  -9.8367,  -9.2763],\n",
      "        [ -4.1706,   0.1836,   1.3840,   4.8416,  12.4520,  -6.0837,  -1.9120,\n",
      "          -1.9286, -17.1745,  -3.2119],\n",
      "        [  6.2801,   0.4450, -10.8297,   3.3470,   6.9105,   4.1747,   2.1349,\n",
      "           3.0415,  -2.0955,  -9.9820],\n",
      "        [  7.5148,  -2.6442,  -9.9605,   6.6110,   5.7283,  -1.4254, -11.1943,\n",
      "           0.3353,  -2.7103,  -7.8956],\n",
      "        [  3.7086,  -4.3634, -11.5359,  -6.5556,  10.3557,  -2.9479,   0.0866,\n",
      "           1.9902,   5.3637,  -8.3993],\n",
      "        [  6.1987,  -1.6055,   3.8647,  -5.3820,  11.4622,  -1.1227,   8.7629,\n",
      "           3.7826,  -8.6666,  -5.9484],\n",
      "        [  4.3468,  -2.0635, -16.8170,   7.2925,  -6.0859,  -4.1274,  -7.2717,\n",
      "           1.8159,  -8.4562,  -5.1031],\n",
      "        [  0.1911,  -7.5353,  -9.4751,  -0.4572,  14.3421,   4.0112,  11.0554,\n",
      "           5.9946,  -5.6019,  -0.3899],\n",
      "        [  1.7888,   0.1208, -14.1220,   8.8238,   9.7108,  -8.9290,  -8.1048,\n",
      "         -13.6521, -15.1986, -10.9712],\n",
      "        [ -3.5557,  -9.5655, -10.2436,   6.4625,   8.6834,  -5.7169,   2.7994,\n",
      "          -2.6030,  -6.3420,  -6.9474],\n",
      "        [  6.8495,   7.4843,   9.6005,   5.2622,   1.7684,  -0.6657,  -3.6786,\n",
      "          -1.6457,  -0.7075,  -7.6823],\n",
      "        [ -8.4953,  -8.4141, -12.1560,   6.8817,   3.6913,  -4.2397,  11.8110,\n",
      "          -4.9555,  -3.9266,   7.3754],\n",
      "        [  4.2033,   2.1420,  -9.6451,   8.3715,  17.6065,  -0.3060,   3.0104,\n",
      "          -1.1170, -14.9793,  -1.8422],\n",
      "        [  1.3071,  -3.5077,  -5.6915,  -2.5622,   4.9159,  -4.7747,  -2.2688,\n",
      "          -2.4298,  -9.8426,  -7.6743],\n",
      "        [  4.7065,  -3.3233, -11.0738,  11.3371,   4.6312,  -4.1830,  -7.5863,\n",
      "          -2.3171,  -6.5186, -13.1280],\n",
      "        [  7.4599,  -8.7436,  -3.4615,  11.2762,  -0.7053, -11.6492,  -1.7586,\n",
      "           0.9808,  -2.9574,  -5.5110],\n",
      "        [  4.2498,  -3.2309,  -8.3708,  11.6310,   8.5890,   0.3281,   2.2048,\n",
      "          -2.8243, -10.8432,  -7.9411],\n",
      "        [  1.3825,   5.1489,  -6.0379,  -5.0952,  16.9556,  -6.7758,   0.9719,\n",
      "          -9.0291, -16.7128, -16.8294],\n",
      "        [  0.9511,  -1.6987,  -3.8695,  -0.6236,  10.3882,  -5.7017,  -1.9233,\n",
      "          -0.3159,   3.3754,  -8.2715],\n",
      "        [  0.9379,   7.1372,  -5.0210,   1.6676,   8.2955,  -0.2116,  -2.2643,\n",
      "          -5.7771, -12.2048,  -9.5537],\n",
      "        [  5.5844,  -0.8618,  -5.9411,   8.6003,  15.4173,  -3.5561,  -1.2732,\n",
      "          -2.5816,  -8.1870,  -3.7389],\n",
      "        [  1.5120,  -0.5078,  -0.4189,   4.0817,  14.5075,  -3.5580,   1.6588,\n",
      "          -8.9468, -15.7591,  -7.9295],\n",
      "        [  8.8349,   0.9378, -13.0668,   8.9302,  18.2814,  -3.8127,  -2.7055,\n",
      "          -5.7265,  -4.8794,  -7.8846],\n",
      "        [ -4.2367,  -1.1042,  -6.6083,   0.2200,  11.2439,  -6.6342,  -4.4395,\n",
      "          -0.1075, -11.2321,  -7.7951],\n",
      "        [ -1.1877, -11.0417, -13.5953,  13.9795,   9.5605,  -4.1158,   2.0611,\n",
      "         -10.9011,  -2.7491,   3.0899],\n",
      "        [  4.5603,  -3.8830,  -6.0077,   4.2058,   4.8675,  -1.7328,   0.3031,\n",
      "           0.4072,  -5.4369, -13.2512],\n",
      "        [ -3.4559,  -9.3856,  -5.4156,  -0.7624,  -0.5425,  -3.9931,   6.2673,\n",
      "          -8.0628,  -5.6342,  -9.1197],\n",
      "        [  2.2151,   6.1079,   3.1512,  15.5802,  18.9053,   2.9013,   2.8275,\n",
      "          -2.1410,  -8.3561, -11.0088],\n",
      "        [  0.7326, -14.1906,  -9.8308,   8.6042,   0.8790,  -3.9173,  -4.1787,\n",
      "          -2.9437, -13.3276,  -6.6918],\n",
      "        [ -1.0818,   2.2326,  -5.9941,   4.3626,   7.9328,  -1.7224,  -4.6968,\n",
      "           1.3321,  -6.8326,  -6.3191],\n",
      "        [  3.4596,  -0.3269,  -5.5925, -10.8337,  12.7015,  -4.8369,  -3.2067,\n",
      "          -1.5824,  -6.9444,  -3.1587],\n",
      "        [  6.3656,  -5.1391,  -9.9145,   1.9774,  11.7059,  -6.8782,  -0.6869,\n",
      "          -0.9333, -12.2708,  -8.3453],\n",
      "        [ -2.4016,   0.0503,  -8.0181,   3.5884,  12.9278,  -1.0513,  -4.0076,\n",
      "          -1.0516, -12.4432,  -5.2408],\n",
      "        [  1.7267,   0.4378, -13.6292,   4.5921,   6.2719,   0.8777,  -9.5484,\n",
      "          -8.5742, -19.6857, -11.4575],\n",
      "        [ -6.7134,  -7.9060,  -3.7901,  15.6394,  -3.1113, -11.9581, -11.3611,\n",
      "         -10.0561,  -3.4906,   0.5532],\n",
      "        [  7.0198,  -1.6658,   1.5443,  -0.9317,  -6.5408,  -6.3511, -12.1095,\n",
      "          -5.3415,  -7.2632,  -9.5933],\n",
      "        [ -6.1007,  -4.2832,  -4.0323,   3.8844,   9.3134,  -8.1622, -13.1753,\n",
      "          -3.6538,  -8.4734, -15.7403],\n",
      "        [ -9.4900,  -1.2257,   1.0748,  -0.5008,  13.0875,  -3.6251,  -3.5477,\n",
      "          -5.7152, -15.0477,  -8.7923],\n",
      "        [ -0.4725,   6.4739,  -3.6916,  -0.6800,  19.7905,  -1.5404,  -0.7572,\n",
      "          -3.7333, -16.5802, -11.5316],\n",
      "        [  9.0479,   1.4914,   0.7504,   2.0587,  16.3479,  -2.0130,   4.9126,\n",
      "          -3.5935, -12.9975,  -4.0706],\n",
      "        [ 11.2525, -11.8605,  -6.0692,   8.6579,  12.5599,  -0.4029,   5.3463,\n",
      "           4.0788,  -9.8338,  -9.1458],\n",
      "        [  0.5242,  -2.2199, -18.2484,   9.1542,   1.3705,   0.1614,  -1.7800,\n",
      "          -4.5372, -11.7157,   5.0021],\n",
      "        [  7.3790,  -4.7111,  -6.1737,   5.9840,  17.4292,  -1.5008,   2.3416,\n",
      "          -0.7711,  -1.6022,   4.4728],\n",
      "        [  0.0790,   4.0028,  -0.4918,   9.5322,   6.4872,  -2.2231, -10.8545,\n",
      "          -7.2821, -12.5527, -18.5453],\n",
      "        [  8.2911,  -2.2784,   8.3457,   9.5664,   7.9386,  -0.0988,  -6.3297,\n",
      "          -3.3687,  -7.4638, -13.4500],\n",
      "        [  0.0417, -15.3395,  -7.4458,   6.1931,   6.1442,   1.7904,   1.5265,\n",
      "          -1.4169,   3.2591,  -3.6020],\n",
      "        [  5.6966,  -5.7644,  -2.2669,   3.6299,  16.3627,  -2.9745,  -1.4134,\n",
      "           4.6756,  -4.3160,  -4.0075],\n",
      "        [ -0.2929, -10.0870,   2.9223,  -4.5085,  12.2587, -10.6404,  -1.1516,\n",
      "           2.5729,  -0.8162,  -5.2127],\n",
      "        [  8.4214,  -0.5644,  -5.3867,   2.5751,  15.1326,  -8.1261,   1.4939,\n",
      "          -9.8021,  -9.2931,  -3.8077]])\n"
     ]
    }
   ],
   "source": [
    "## Your solution\n",
    "nbatch,nbands,nrows,ncols = images.shape\n",
    "images2 = images.reshape(-1,nrows*ncols)\n",
    "# sol shows more torch way to do it\n",
    "# images2 = images.view(nbatch,-1)\n",
    "\n",
    "def activation(x):\n",
    "    \"\"\" Sigmoid activation function \n",
    "    \n",
    "        Arguments\n",
    "        ---------\n",
    "        x: torch.Tensor\n",
    "    \"\"\"\n",
    "    return 1/(1+torch.exp(-x))\n",
    "\n",
    "### Generate some data\n",
    "torch.manual_seed(7) # Set the random seed so things are predictable\n",
    "\n",
    "# True weights for our data, random normal variables again\n",
    "weights = torch.randn((784,256))\n",
    "print(weights.shape)\n",
    "# and a true bias term\n",
    "bias = torch.randn((1, 1))\n",
    "\n",
    "weights_outlayer = torch.randn((256,10))\n",
    "bias_outlayer = torch.randn((1,1))\n",
    "\n",
    "h = activation(torch.matmul(images2, weights) + bias)\n",
    "print(h.shape)\n",
    "out = torch.matmul(h, weights_outlayer) + bias_outlayer\n",
    "print(out.shape)\n",
    "print(out)\n",
    "#out = # output of your network, should have shape (64,10)"
   ]
  },
  {
   "cell_type": "markdown",
   "metadata": {},
   "source": [
    "Now we have 10 outputs for our network. We want to pass in an image to our network and get out a probability distribution over the classes that tells us the likely class(es) the image belongs to. Something that looks like this:\n",
    "<img src='assets/image_distribution.png' width=500px>\n",
    "\n",
    "Here we see that the probability for each class is roughly the same. This is representing an untrained network, it hasn't seen any data yet so it just returns a uniform distribution with equal probabilities for each class.\n",
    "\n",
    "To calculate this probability distribution, we often use the [**softmax** function](https://en.wikipedia.org/wiki/Softmax_function). Mathematically this looks like\n",
    "\n",
    "$$\n",
    "\\Large \\sigma(x_i) = \\cfrac{e^{x_i}}{\\sum_k^K{e^{x_k}}}\n",
    "$$\n",
    "\n",
    "What this does is squish each input $x_i$ between 0 and 1 and normalizes the values to give you a proper probability distribution where the probabilites sum up to one.\n",
    "\n",
    "> **Exercise:** Implement a function `softmax` that performs the softmax calculation and returns probability distributions for each example in the batch. Note that you'll need to pay attention to the shapes when doing this. If you have a tensor `a` with shape `(64, 10)` and a tensor `b` with shape `(64,)`, doing `a/b` will give you an error because PyTorch will try to do the division across the columns (called broadcasting) but you'll get a size mismatch. The way to think about this is for each of the 64 examples, you only want to divide by one value, the sum in the denominator. So you need `b` to have a shape of `(64, 1)`. This way PyTorch will divide the 10 values in each row of `a` by the one value in each row of `b`. Pay attention to how you take the sum as well. You'll need to define the `dim` keyword in `torch.sum`. Setting `dim=0` takes the sum across the rows while `dim=1` takes the sum across the columns."
   ]
  },
  {
   "cell_type": "code",
   "execution_count": 64,
   "metadata": {},
   "outputs": [
    {
     "name": "stdout",
     "output_type": "stream",
     "text": [
      "torch.Size([64, 1])\n",
      "torch.Size([64, 10])\n",
      "tensor([1.0000, 1.0000, 1.0000, 1.0000, 1.0000, 1.0000, 1.0000, 1.0000, 1.0000,\n",
      "        1.0000, 1.0000, 1.0000, 1.0000, 1.0000, 1.0000, 1.0000, 1.0000, 1.0000,\n",
      "        1.0000, 1.0000, 1.0000, 1.0000, 1.0000, 1.0000, 1.0000, 1.0000, 1.0000,\n",
      "        1.0000, 1.0000, 1.0000, 1.0000, 1.0000, 1.0000, 1.0000, 1.0000, 1.0000,\n",
      "        1.0000, 1.0000, 1.0000, 1.0000, 1.0000, 1.0000, 1.0000, 1.0000, 1.0000,\n",
      "        1.0000, 1.0000, 1.0000, 1.0000, 1.0000, 1.0000, 1.0000, 1.0000, 1.0000,\n",
      "        1.0000, 1.0000, 1.0000, 1.0000, 1.0000, 1.0000, 1.0000, 1.0000, 1.0000,\n",
      "        1.0000])\n"
     ]
    }
   ],
   "source": [
    "def softmax(x):\n",
    "    ## TODO: Implement the softmax function here\n",
    "    # x.shape is batch_size, n_outputs\n",
    "    \n",
    "    ex = torch.exp(x)\n",
    "\n",
    "    # create denom with shape batch_size,1\n",
    "    denom = torch.sum(ex, dim=1).unsqueeze(1)\n",
    "    print(denom.shape)\n",
    "\n",
    "    # for a given row, divide each col by same value\n",
    "    # this is how torch handles / division for (n_batch,classes) / (n_batch,1)\n",
    "    # IMPORTANT TO UNDERSTANDING BROADCASTING IN TORCH (& NUMPY)\n",
    "    smax = ex/denom\n",
    "    \n",
    "    return smax\n",
    "\n",
    "# alternative from sol\n",
    "def softmaxsol(x):\n",
    "    return torch.exp(x)/torch.sum(torch.exp(x),dim=1).view(-1,1)\n",
    "    \n",
    "# Here, out should be the output of the network in the previous excercise with shape (64,10)\n",
    "probabilities = softmax(out)\n",
    "\n",
    "# Does it have the right shape? Should be (64, 10)\n",
    "print(probabilities.shape)\n",
    "# Does it sum to 1?\n",
    "print(probabilities.sum(dim=1))"
   ]
  },
  {
   "cell_type": "markdown",
   "metadata": {},
   "source": [
    "## Building networks with PyTorch\n",
    "\n",
    "PyTorch provides a module `nn` that makes building networks much simpler. Here I'll show you how to build the same one as above with 784 inputs, 256 hidden units, 10 output units and a softmax output."
   ]
  },
  {
   "cell_type": "code",
   "execution_count": 65,
   "metadata": {},
   "outputs": [],
   "source": [
    "from torch import nn"
   ]
  },
  {
   "cell_type": "code",
   "execution_count": 66,
   "metadata": {},
   "outputs": [],
   "source": [
    "class Network(nn.Module):\n",
    "    def __init__(self):\n",
    "        \n",
    "        # review why call __init__()\n",
    "        # instructor says so PyTorch knows to register all the different operations\n",
    "        # and layers that you will be putting into this network.\n",
    "        # If you don't do this will you get error?  Or will it incorrectly continue\n",
    "        # and possibly cause unknown issues?\n",
    "        super().__init__()\n",
    "        \n",
    "        # Inputs to hidden layer linear transformation\n",
    "        self.hidden = nn.Linear(784, 256)\n",
    "        # Output layer, 10 units - one for each digit\n",
    "        self.output = nn.Linear(256, 10)\n",
    "        \n",
    "        # Define sigmoid activation and softmax output \n",
    "        self.sigmoid = nn.Sigmoid()\n",
    "        self.softmax = nn.Softmax(dim=1)\n",
    "        \n",
    "    def forward(self, x):\n",
    "        # Pass the input tensor through each of our operations\n",
    "        x = self.hidden(x)\n",
    "        x = self.sigmoid(x)\n",
    "        x = self.output(x)\n",
    "        x = self.softmax(x)\n",
    "        \n",
    "        return x"
   ]
  },
  {
   "cell_type": "markdown",
   "metadata": {},
   "source": [
    "Let's go through this bit by bit.\n",
    "\n",
    "```python\n",
    "class Network(nn.Module):\n",
    "```\n",
    "\n",
    "Here we're inheriting from `nn.Module`. Combined with `super().__init__()` this creates a class that tracks the architecture and provides a lot of useful methods and attributes. It is mandatory to inherit from `nn.Module` when you're creating a class for your network. The name of the class itself can be anything.\n",
    "\n",
    "```python\n",
    "self.hidden = nn.Linear(784, 256)\n",
    "```\n",
    "\n",
    "This line creates a module for a linear transformation, $x\\mathbf{W} + b$, with 784 inputs and 256 outputs and assigns it to `self.hidden`. The module automatically creates the weight and bias tensors which we'll use in the `forward` method. You can access the weight and bias tensors once the network (`net`) is created with `net.hidden.weight` and `net.hidden.bias`.\n",
    "\n",
    "```python\n",
    "self.output = nn.Linear(256, 10)\n",
    "```\n",
    "\n",
    "Similarly, this creates another linear transformation with 256 inputs and 10 outputs.\n",
    "\n",
    "```python\n",
    "self.sigmoid = nn.Sigmoid()\n",
    "self.softmax = nn.Softmax(dim=1)\n",
    "```\n",
    "\n",
    "Here I defined operations for the sigmoid activation and softmax output. Setting `dim=1` in `nn.Softmax(dim=1)` calculates softmax across the columns.\n",
    "\n",
    "```python\n",
    "def forward(self, x):\n",
    "```\n",
    "\n",
    "PyTorch networks created with `nn.Module` must have a `forward` method defined. It takes in a tensor `x` and passes it through the operations you defined in the `__init__` method.\n",
    "\n",
    "```python\n",
    "x = self.hidden(x)\n",
    "x = self.sigmoid(x)\n",
    "x = self.output(x)\n",
    "x = self.softmax(x)\n",
    "```\n",
    "\n",
    "Here the input tensor `x` is passed through each operation and reassigned to `x`. We can see that the input tensor goes through the hidden layer, then a sigmoid function, then the output layer, and finally the softmax function. It doesn't matter what you name the variables here, as long as the inputs and outputs of the operations match the network architecture you want to build. The order in which you define things in the `__init__` method doesn't matter, but you'll need to sequence the operations correctly in the `forward` method.\n",
    "\n",
    "Now we can create a `Network` object."
   ]
  },
  {
   "cell_type": "code",
   "execution_count": 67,
   "metadata": {},
   "outputs": [
    {
     "data": {
      "text/plain": [
       "Network(\n",
       "  (hidden): Linear(in_features=784, out_features=256, bias=True)\n",
       "  (output): Linear(in_features=256, out_features=10, bias=True)\n",
       "  (sigmoid): Sigmoid()\n",
       "  (softmax): Softmax(dim=1)\n",
       ")"
      ]
     },
     "execution_count": 67,
     "metadata": {},
     "output_type": "execute_result"
    }
   ],
   "source": [
    "# Create the network and look at it's text representation\n",
    "model = Network()\n",
    "model"
   ]
  },
  {
   "cell_type": "markdown",
   "metadata": {},
   "source": [
    "You can define the network somewhat more concisely and clearly using the `torch.nn.functional` module. This is the most common way you'll see networks defined as many operations are simple element-wise functions. We normally import this module as `F`, `import torch.nn.functional as F`."
   ]
  },
  {
   "cell_type": "code",
   "execution_count": 68,
   "metadata": {},
   "outputs": [],
   "source": [
    "import torch.nn.functional as F\n",
    "\n",
    "class Network(nn.Module):\n",
    "    def __init__(self):\n",
    "        super().__init__()\n",
    "        # Inputs to hidden layer linear transformation\n",
    "        self.hidden = nn.Linear(784, 256)\n",
    "        # Output layer, 10 units - one for each digit\n",
    "        self.output = nn.Linear(256, 10)\n",
    "        \n",
    "    def forward(self, x):\n",
    "        # Hidden layer with sigmoid activation\n",
    "        x = F.sigmoid(self.hidden(x))\n",
    "        # Output layer with softmax activation\n",
    "        x = F.softmax(self.output(x), dim=1)\n",
    "        \n",
    "        return x"
   ]
  },
  {
   "cell_type": "markdown",
   "metadata": {},
   "source": [
    "### Activation functions\n",
    "\n",
    "So far we've only been looking at the sigmoid activation function, but in general any function can be used as an activation function. The only requirement is that for a network to approximate a non-linear function, the activation functions must be non-linear. Here are a few more examples of common activation functions: Tanh (hyperbolic tangent), and ReLU (rectified linear unit).\n",
    "\n",
    "<img src=\"assets/activation.png\" width=700px>\n",
    "\n",
    "In practice, the ReLU function is used almost exclusively as the activation function for hidden layers."
   ]
  },
  {
   "cell_type": "markdown",
   "metadata": {},
   "source": [
    "### Your Turn to Build a Network\n",
    "\n",
    "<img src=\"assets/mlp_mnist.png\" width=600px>\n",
    "\n",
    "> **Exercise:** Create a network with 784 input units, a hidden layer with 128 units and a ReLU activation, then a hidden layer with 64 units and a ReLU activation, and finally an output layer with a softmax activation as shown above. You can use a ReLU activation with the `nn.ReLU` module or `F.relu` function.\n",
    "\n",
    "It's good practice to name your layers by their type of network, for instance 'fc' to represent a fully-connected layer. As you code your solution, use `fc1`, `fc2`, and `fc3` as your layer names."
   ]
  },
  {
   "cell_type": "code",
   "execution_count": 76,
   "metadata": {
    "scrolled": true
   },
   "outputs": [],
   "source": [
    "## Your solution here\n",
    "class MyNet(nn.Module):\n",
    "    \n",
    "    def __init__(self):\n",
    "        super().__init__()\n",
    "        \n",
    "        self.fc1 = nn.Linear(784,128)\n",
    "        self.fc2 = nn.Linear(128,64)\n",
    "        self.fc3 = nn.Linear(64,10)\n",
    "        \n",
    "    def forward(self, x):\n",
    "        \n",
    "        x = F.relu(self.fc1(x))\n",
    "        x = F.relu(self.fc2(x))\n",
    "        x = F.softmax(self.fc3(x), dim=1)\n",
    "        \n",
    "        return x\n",
    "    \n",
    "model = MyNet()    "
   ]
  },
  {
   "cell_type": "markdown",
   "metadata": {},
   "source": [
    "### Initializing weights and biases\n",
    "\n",
    "The weights and such are automatically initialized for you, but it's possible to customize how they are initialized. The weights and biases are tensors attached to the layer you defined, you can get them with `model.fc1.weight` for instance."
   ]
  },
  {
   "cell_type": "code",
   "execution_count": 77,
   "metadata": {},
   "outputs": [
    {
     "name": "stdout",
     "output_type": "stream",
     "text": [
      "Parameter containing:\n",
      "tensor([[ 6.2060e-05, -2.1676e-02,  1.7854e-02,  ...,  2.3681e-04,\n",
      "          2.5686e-02,  1.8722e-02],\n",
      "        [-2.1289e-03, -2.2485e-02,  1.5362e-02,  ..., -1.0786e-02,\n",
      "         -2.4352e-02,  3.4796e-02],\n",
      "        [ 1.4267e-02,  2.7247e-03,  2.1734e-02,  ..., -3.2778e-02,\n",
      "         -1.8210e-03,  8.4646e-03],\n",
      "        ...,\n",
      "        [ 2.0203e-02, -2.8254e-02,  2.4181e-02,  ..., -2.5177e-02,\n",
      "          1.7060e-02, -2.5726e-02],\n",
      "        [ 1.9796e-02, -2.8486e-02, -2.1126e-02,  ..., -1.7937e-02,\n",
      "         -2.6318e-02,  8.5603e-05],\n",
      "        [-5.7523e-03,  3.6318e-03,  3.3036e-02,  ...,  3.7212e-04,\n",
      "         -7.1844e-03,  2.1961e-02]], requires_grad=True)\n",
      "Parameter containing:\n",
      "tensor([-0.0217,  0.0011,  0.0237, -0.0050,  0.0064, -0.0132, -0.0139,  0.0335,\n",
      "        -0.0049,  0.0331, -0.0353, -0.0342, -0.0115, -0.0117,  0.0176,  0.0030,\n",
      "         0.0170,  0.0064, -0.0052,  0.0051, -0.0209,  0.0297, -0.0200,  0.0172,\n",
      "        -0.0292, -0.0264, -0.0331,  0.0269,  0.0331, -0.0011, -0.0123, -0.0190,\n",
      "         0.0161,  0.0113, -0.0276, -0.0042, -0.0230,  0.0063,  0.0188, -0.0246,\n",
      "        -0.0167,  0.0114,  0.0235, -0.0016, -0.0213,  0.0242,  0.0249, -0.0208,\n",
      "        -0.0069,  0.0126, -0.0062, -0.0208,  0.0244,  0.0035,  0.0203, -0.0331,\n",
      "         0.0130,  0.0347, -0.0126,  0.0280,  0.0306, -0.0172,  0.0357, -0.0323,\n",
      "         0.0259,  0.0228,  0.0185, -0.0259, -0.0078,  0.0233, -0.0047,  0.0109,\n",
      "         0.0313, -0.0304,  0.0106,  0.0071,  0.0244, -0.0072,  0.0024,  0.0245,\n",
      "         0.0354, -0.0142, -0.0214, -0.0276, -0.0223,  0.0221,  0.0078,  0.0298,\n",
      "         0.0108, -0.0001,  0.0268,  0.0290, -0.0319, -0.0126,  0.0293,  0.0099,\n",
      "        -0.0054, -0.0314, -0.0140, -0.0053,  0.0346,  0.0029, -0.0185,  0.0343,\n",
      "         0.0166, -0.0228,  0.0356, -0.0007, -0.0066, -0.0003, -0.0113, -0.0115,\n",
      "        -0.0233,  0.0274, -0.0134, -0.0223,  0.0010,  0.0047, -0.0091,  0.0125,\n",
      "        -0.0065,  0.0135,  0.0247, -0.0271,  0.0327,  0.0183,  0.0063,  0.0175],\n",
      "       requires_grad=True)\n"
     ]
    }
   ],
   "source": [
    "print(model.fc1.weight)\n",
    "print(model.fc1.bias)"
   ]
  },
  {
   "cell_type": "markdown",
   "metadata": {},
   "source": [
    "For custom initialization, we want to modify these tensors in place. These are actually autograd *Variables*, so we need to get back the actual tensors with `model.fc1.weight.data`. Once we have the tensors, we can fill them with zeros (for biases) or random normal values."
   ]
  },
  {
   "cell_type": "code",
   "execution_count": 78,
   "metadata": {},
   "outputs": [
    {
     "data": {
      "text/plain": [
       "tensor([0., 0., 0., 0., 0., 0., 0., 0., 0., 0., 0., 0., 0., 0., 0., 0., 0., 0., 0., 0., 0., 0., 0., 0.,\n",
       "        0., 0., 0., 0., 0., 0., 0., 0., 0., 0., 0., 0., 0., 0., 0., 0., 0., 0., 0., 0., 0., 0., 0., 0.,\n",
       "        0., 0., 0., 0., 0., 0., 0., 0., 0., 0., 0., 0., 0., 0., 0., 0., 0., 0., 0., 0., 0., 0., 0., 0.,\n",
       "        0., 0., 0., 0., 0., 0., 0., 0., 0., 0., 0., 0., 0., 0., 0., 0., 0., 0., 0., 0., 0., 0., 0., 0.,\n",
       "        0., 0., 0., 0., 0., 0., 0., 0., 0., 0., 0., 0., 0., 0., 0., 0., 0., 0., 0., 0., 0., 0., 0., 0.,\n",
       "        0., 0., 0., 0., 0., 0., 0., 0.])"
      ]
     },
     "execution_count": 78,
     "metadata": {},
     "output_type": "execute_result"
    }
   ],
   "source": [
    "# Set biases to all zeros\n",
    "model.fc1.bias.data.fill_(0)"
   ]
  },
  {
   "cell_type": "code",
   "execution_count": 79,
   "metadata": {},
   "outputs": [
    {
     "data": {
      "text/plain": [
       "tensor([[ 1.3070e-03,  3.5205e-03,  2.0045e-03,  ...,  1.1426e-02,\n",
       "         -9.7906e-03, -5.5978e-03],\n",
       "        [-9.9773e-03,  5.2860e-03, -3.5682e-03,  ..., -7.2991e-04,\n",
       "         -2.1589e-02,  1.5570e-03],\n",
       "        [-1.1902e-03,  1.4294e-02, -5.6356e-03,  ...,  1.1669e-02,\n",
       "          8.4991e-04,  1.4454e-03],\n",
       "        ...,\n",
       "        [-2.7129e-03,  1.3105e-03,  8.2286e-03,  ..., -5.2854e-03,\n",
       "          1.3751e-02,  7.2268e-03],\n",
       "        [-1.2914e-03,  1.9405e-02,  2.4757e-02,  ...,  1.3787e-03,\n",
       "          1.1197e-02,  9.7892e-06],\n",
       "        [ 2.2237e-03,  5.1329e-03, -1.0884e-03,  ...,  1.8746e-02,\n",
       "          8.8641e-03, -8.2533e-03]])"
      ]
     },
     "execution_count": 79,
     "metadata": {},
     "output_type": "execute_result"
    }
   ],
   "source": [
    "# sample from random normal with standard dev = 0.01\n",
    "model.fc1.weight.data.normal_(std=0.01)"
   ]
  },
  {
   "cell_type": "markdown",
   "metadata": {},
   "source": [
    "### Forward pass\n",
    "\n",
    "Now that we have a network, let's see what happens when we pass in an image."
   ]
  },
  {
   "cell_type": "code",
   "execution_count": 80,
   "metadata": {},
   "outputs": [
    {
     "data": {
      "image/png": "[encoded data removed]",
      "text/plain": [
       "<Figure size 432x648 with 2 Axes>"
      ]
     },
     "metadata": {
      "image/png": {
       "height": 235,
       "width": 424
      },
      "needs_background": "light"
     },
     "output_type": "display_data"
    }
   ],
   "source": [
    "# Grab some data \n",
    "dataiter = iter(trainloader)\n",
    "images, labels = dataiter.next()\n",
    "\n",
    "# Resize images into a 1D vector, new shape is (batch size, color channels, image pixels) \n",
    "images.resize_(64, 1, 784)\n",
    "# or images.resize_(images.shape[0], 1, 784) to automatically get batch size\n",
    "\n",
    "# Forward pass through the network\n",
    "img_idx = 0\n",
    "ps = model.forward(images[img_idx,:])\n",
    "\n",
    "img = images[img_idx]\n",
    "helper.view_classify(img.view(1, 28, 28), ps)"
   ]
  },
  {
   "cell_type": "markdown",
   "metadata": {},
   "source": [
    "As you can see above, our network has basically no idea what this digit is. It's because we haven't trained it yet, all the weights are random!\n",
    "\n",
    "### Using `nn.Sequential`\n",
    "\n",
    "PyTorch provides a convenient way to build networks like this where a tensor is passed sequentially through operations, `nn.Sequential` ([documentation](https://pytorch.org/docs/master/nn.html#torch.nn.Sequential)). Using this to build the equivalent network:"
   ]
  },
  {
   "cell_type": "code",
   "execution_count": 81,
   "metadata": {},
   "outputs": [
    {
     "name": "stdout",
     "output_type": "stream",
     "text": [
      "Sequential(\n",
      "  (0): Linear(in_features=784, out_features=128, bias=True)\n",
      "  (1): ReLU()\n",
      "  (2): Linear(in_features=128, out_features=64, bias=True)\n",
      "  (3): ReLU()\n",
      "  (4): Linear(in_features=64, out_features=10, bias=True)\n",
      "  (5): Softmax(dim=1)\n",
      ")\n"
     ]
    },
    {
     "data": {
      "image/png": "[encoded data removed]",
      "text/plain": [
       "<Figure size 432x648 with 2 Axes>"
      ]
     },
     "metadata": {
      "image/png": {
       "height": 235,
       "width": 424
      },
      "needs_background": "light"
     },
     "output_type": "display_data"
    }
   ],
   "source": [
    "# Hyperparameters for our network\n",
    "input_size = 784\n",
    "hidden_sizes = [128, 64]\n",
    "output_size = 10\n",
    "\n",
    "# Build a feed-forward network\n",
    "model = nn.Sequential(nn.Linear(input_size, hidden_sizes[0]),\n",
    "                      nn.ReLU(),\n",
    "                      nn.Linear(hidden_sizes[0], hidden_sizes[1]),\n",
    "                      nn.ReLU(),\n",
    "                      nn.Linear(hidden_sizes[1], output_size),\n",
    "                      nn.Softmax(dim=1))\n",
    "print(model)\n",
    "\n",
    "# Forward pass through the network and display output\n",
    "images, labels = next(iter(trainloader))\n",
    "images.resize_(images.shape[0], 1, 784)\n",
    "ps = model.forward(images[0,:])\n",
    "helper.view_classify(images[0].view(1, 28, 28), ps)"
   ]
  },
  {
   "cell_type": "markdown",
   "metadata": {},
   "source": [
    "Here our model is the same as before: 784 input units, a hidden layer with 128 units, ReLU activation, 64 unit hidden layer, another ReLU, then the output layer with 10 units, and the softmax output.\n",
    "\n",
    "The operations are available by passing in the appropriate index. For example, if you want to get first Linear operation and look at the weights, you'd use `model[0]`."
   ]
  },
  {
   "cell_type": "code",
   "execution_count": 82,
   "metadata": {},
   "outputs": [
    {
     "name": "stdout",
     "output_type": "stream",
     "text": [
      "Linear(in_features=784, out_features=128, bias=True)\n"
     ]
    },
    {
     "data": {
      "text/plain": [
       "Parameter containing:\n",
       "tensor([[-0.0024, -0.0047, -0.0074,  ...,  0.0151,  0.0212, -0.0287],\n",
       "        [ 0.0339,  0.0243, -0.0172,  ...,  0.0077,  0.0336, -0.0007],\n",
       "        [-0.0290, -0.0173, -0.0278,  ...,  0.0184, -0.0236, -0.0320],\n",
       "        ...,\n",
       "        [-0.0265, -0.0303,  0.0313,  ...,  0.0244, -0.0015,  0.0300],\n",
       "        [-0.0060, -0.0304,  0.0274,  ...,  0.0352,  0.0278, -0.0121],\n",
       "        [ 0.0045,  0.0260, -0.0153,  ..., -0.0119,  0.0061,  0.0193]],\n",
       "       requires_grad=True)"
      ]
     },
     "execution_count": 82,
     "metadata": {},
     "output_type": "execute_result"
    }
   ],
   "source": [
    "print(model[0])\n",
    "model[0].weight"
   ]
  },
  {
   "cell_type": "markdown",
   "metadata": {},
   "source": [
    "You can also pass in an `OrderedDict` to name the individual layers and operations, instead of using incremental integers. Note that dictionary keys must be unique, so _each operation must have a different name_."
   ]
  },
  {
   "cell_type": "code",
   "execution_count": 83,
   "metadata": {},
   "outputs": [
    {
     "data": {
      "text/plain": [
       "Sequential(\n",
       "  (fc1): Linear(in_features=784, out_features=128, bias=True)\n",
       "  (relu1): ReLU()\n",
       "  (fc2): Linear(in_features=128, out_features=64, bias=True)\n",
       "  (relu2): ReLU()\n",
       "  (output): Linear(in_features=64, out_features=10, bias=True)\n",
       "  (softmax): Softmax(dim=1)\n",
       ")"
      ]
     },
     "execution_count": 83,
     "metadata": {},
     "output_type": "execute_result"
    }
   ],
   "source": [
    "from collections import OrderedDict\n",
    "model = nn.Sequential(OrderedDict([\n",
    "                      ('fc1', nn.Linear(input_size, hidden_sizes[0])),\n",
    "                      ('relu1', nn.ReLU()),\n",
    "                      ('fc2', nn.Linear(hidden_sizes[0], hidden_sizes[1])),\n",
    "                      ('relu2', nn.ReLU()),\n",
    "                      ('output', nn.Linear(hidden_sizes[1], output_size)),\n",
    "                      ('softmax', nn.Softmax(dim=1))]))\n",
    "model"
   ]
  },
  {
   "cell_type": "markdown",
   "metadata": {},
   "source": [
    "Now you can access layers either by integer or the name"
   ]
  },
  {
   "cell_type": "code",
   "execution_count": 84,
   "metadata": {},
   "outputs": [
    {
     "name": "stdout",
     "output_type": "stream",
     "text": [
      "Linear(in_features=784, out_features=128, bias=True)\n",
      "Linear(in_features=784, out_features=128, bias=True)\n"
     ]
    }
   ],
   "source": [
    "print(model[0])\n",
    "print(model.fc1)"
   ]
  },
  {
   "cell_type": "markdown",
   "metadata": {},
   "source": [
    "In the next notebook, we'll see how we can train a neural network to accuractly predict the numbers appearing in the MNIST images."
   ]
  }
 ],
 "metadata": {
  "kernelspec": {
   "display_name": "Python 3",
   "language": "python",
   "name": "python3"
  },
  "language_info": {
   "codemirror_mode": {
    "name": "ipython",
    "version": 3
   },
   "file_extension": ".py",
   "mimetype": "text/x-python",
   "name": "python",
   "nbconvert_exporter": "python",
   "pygments_lexer": "ipython3",
   "version": "3.8.3"
  }
 },
 "nbformat": 4,
 "nbformat_minor": 2
}
